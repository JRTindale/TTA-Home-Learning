{
 "cells": [
  {
   "cell_type": "markdown",
   "metadata": {},
   "source": [
    "<h2>Task 1</h2>\n",
    "<p>Write a program that allows you to enter 4 numbers\n",
    "and stores them in a file called “Numbers”:</p>\n",
    "• 3</br>\n",
    "• 45</br>\n",
    "• 83</br>\n",
    "• 21</br>\n",
    "<p>Have a go at ‘w’ ‘r’ ‘a’</p>"
   ]
  },
  {
   "cell_type": "code",
   "execution_count": 46,
   "metadata": {},
   "outputs": [],
   "source": [
    "#Create new file and add four chosen numbers\n",
    "my_file = open(\"Numbers.txt\", \"w\")\n",
    "\n",
    "my_file.write(f'{input(\"please enter first number\")}\\n')\n",
    "my_file.write(f'{input(\"please enter second number\")}\\n')\n",
    "my_file.write(f'{input(\"please enter third number\")}\\n')\n",
    "my_file.write(f'{input(\"please enter fourth number\")}\\n')\n",
    "\n",
    "my_file.close()"
   ]
  },
  {
   "cell_type": "code",
   "execution_count": 47,
   "metadata": {},
   "outputs": [],
   "source": [
    "#Append chosen number to file\n",
    "my_file = open(\"Numbers.txt\",\"a\")\n",
    "\n",
    "my_file.write(f'{input(\"please enter number to append to file\")}')\n",
    "\n",
    "my_file.close()"
   ]
  },
  {
   "cell_type": "code",
   "execution_count": 48,
   "metadata": {},
   "outputs": [
    {
     "name": "stdout",
     "output_type": "stream",
     "text": [
      "1,2,3,4,27\n"
     ]
    }
   ],
   "source": [
    "#Read numbers and print data\n",
    "with open(\"Numbers.txt\",\"r\") as myfile:\n",
    "    data = myfile.read().replace('\\n',',')\n",
    "    print(data)\n",
    "myfile.close()"
   ]
  },
  {
   "cell_type": "markdown",
   "metadata": {},
   "source": [
    "<h2>Task 2</h2>\n",
    "<p>Write a program to ask a student for their percentage  mark and convert this to a grade.</p>\n",
    "<p>The conversion will be done in a function called mark_grade</p>"
   ]
  },
  {
   "cell_type": "code",
   "execution_count": 97,
   "metadata": {},
   "outputs": [
    {
     "name": "stdout",
     "output_type": "stream",
     "text": [
      "Grade Achieved: C\n"
     ]
    }
   ],
   "source": [
    "#List of Grades and Percentages\n",
    "grade_values = {\n",
    "    80:\"A*\",\n",
    "    70:\"A\",\n",
    "    60:\"B\",\n",
    "    50:\"C\",\n",
    "    40:\"D\",\n",
    "    0:\"F\"\n",
    "}\n",
    "\n",
    "#Create function to run percentage_mark agains grade_values\n",
    "def grade_conversion(percentage_mark):\n",
    "    for percentage, grade in grade_values.items():\n",
    "        if percentage_mark >= percentage:\n",
    "            print(f\"Grade Achieved: {grade}\") \n",
    "            break\n",
    "\n",
    "try:\n",
    "    grade_conversion(float(input(\"Please enter your percentage mark\")))\n",
    "except:\n",
    "    print(\"Please enter a numeric value\")"
   ]
  },
  {
   "cell_type": "markdown",
   "metadata": {},
   "source": [
    "<h2>Task 2 Extension</h2>\n",
    "• Ask the user for their target grade and print this with their\n",
    "mark</br>\n",
    "• If their target grade > exam grade display a suitable\n",
    "message</br>\n",
    "• If their target grade = exam grade display a suitable\n",
    "message</br>\n",
    "• If their target grade < exam grade display a suitable\n",
    "message</br>"
   ]
  },
  {
   "cell_type": "code",
   "execution_count": 130,
   "metadata": {},
   "outputs": [
    {
     "name": "stdout",
     "output_type": "stream",
     "text": [
      "Target Grade: C\n",
      "Grade Achieved: B\n",
      "You went above and beyond well done!!!\n"
     ]
    }
   ],
   "source": [
    "try:\n",
    "    desired_grade = str(input(\"Please enter your target grade\"))\n",
    "except:\n",
    "    print(\"Please enter a string value\")\n",
    "\n",
    "try:\n",
    "    student_percentage = float(input(\"Please enter your percentage mark\"))\n",
    "except:\n",
    "    print(\"Please enter a numeric value\")\n",
    "\n",
    "def grade_conversion_with_target(percentage_mark, target_grade):\n",
    "    for percentage, grade in grade_values.items():\n",
    "        actual_target_diff = 0\n",
    "        if percentage_mark >= percentage:\n",
    "            print(f\"Target Grade: {target_grade}\") \n",
    "            print(f\"Grade Achieved: {grade}\") \n",
    "            for list_percentage, list_grade in grade_values.items():\n",
    "                if target_grade == list_grade:\n",
    "                    actual_target_diff = list_percentage - percentage\n",
    "                    break\n",
    "            if actual_target_diff == 0:\n",
    "                print(\"Target achieved well done!!!\")\n",
    "            elif actual_target_diff < 0:\n",
    "                print(\"You went above and beyond well done!!!\")\n",
    "            else:\n",
    "                print(\"You didn't reach your target grade, better luck next time.\")\n",
    "            break\n",
    "\n",
    "\n",
    "grade_conversion_with_target(student_percentage,desired_grade)"
   ]
  },
  {
   "cell_type": "markdown",
   "metadata": {},
   "source": [
    "<h1> Home Learning Project Numpy</h1>"
   ]
  },
  {
   "cell_type": "code",
   "execution_count": 134,
   "metadata": {},
   "outputs": [],
   "source": [
    "#import necessary packages\n",
    "import numpy as np"
   ]
  },
  {
   "cell_type": "markdown",
   "metadata": {},
   "source": [
    "1. Create a 1D array of numbers from 0 to 9"
   ]
  },
  {
   "cell_type": "code",
   "execution_count": 171,
   "metadata": {},
   "outputs": [
    {
     "name": "stdout",
     "output_type": "stream",
     "text": [
      "[0 1 2 3 4 5 6 7 8 9]\n"
     ]
    }
   ],
   "source": [
    "array1 = np.arange(0,10)\n",
    "\n",
    "print(array1)"
   ]
  },
  {
   "cell_type": "markdown",
   "metadata": {},
   "source": [
    "2. Create a 3x3 NumPy array of all Boolean value Trues"
   ]
  },
  {
   "cell_type": "code",
   "execution_count": 155,
   "metadata": {},
   "outputs": [
    {
     "name": "stdout",
     "output_type": "stream",
     "text": [
      "[[1. 1. 1.]\n",
      " [1. 1. 1.]\n",
      " [1. 1. 1.]]\n"
     ]
    }
   ],
   "source": [
    "array2 = np.ones((3,3))\n",
    "print(array2)"
   ]
  },
  {
   "cell_type": "markdown",
   "metadata": {},
   "source": [
    "3. Extract all odd numbers from an array of 1-10"
   ]
  },
  {
   "cell_type": "code",
   "execution_count": 173,
   "metadata": {},
   "outputs": [
    {
     "name": "stdout",
     "output_type": "stream",
     "text": [
      "[1 3 5 7 9]\n"
     ]
    }
   ],
   "source": [
    "array3 = np.arange(1,11)\n",
    "\n",
    "array3_odd = array3[array3%2==1]\n",
    "\n",
    "print(array3_odd)"
   ]
  },
  {
   "cell_type": "markdown",
   "metadata": {},
   "source": [
    "4. Replace all odd numbers in an array of 1-10 with the value -1"
   ]
  },
  {
   "cell_type": "code",
   "execution_count": 180,
   "metadata": {},
   "outputs": [
    {
     "name": "stdout",
     "output_type": "stream",
     "text": [
      "[-1  2 -1  4 -1  6 -1  8 -1 10]\n"
     ]
    }
   ],
   "source": [
    "array4 = np.arange(1,11)\n",
    "array4_odd_replace = np.where(array4%2 == 1, -1, array4)\n",
    "print(array4_odd_replace)\n"
   ]
  },
  {
   "cell_type": "markdown",
   "metadata": {},
   "source": [
    "5. Convert a 1D array to a 2D array with 2 rows"
   ]
  },
  {
   "cell_type": "code",
   "execution_count": 181,
   "metadata": {},
   "outputs": [
    {
     "name": "stdout",
     "output_type": "stream",
     "text": [
      "[[ 1  2  3  4  5]\n",
      " [ 6  7  8  9 10]]\n"
     ]
    }
   ],
   "source": [
    "array5 = np.arange(1,11)\n",
    "array5_2D = array5.reshape(2, 5)\n",
    "print(array5_2D)"
   ]
  },
  {
   "cell_type": "markdown",
   "metadata": {},
   "source": [
    "6. Create two arrays a and b, stack these two arrays vertically use the np.dot and np.sum to calculate totals"
   ]
  },
  {
   "cell_type": "code",
   "execution_count": 201,
   "metadata": {},
   "outputs": [
    {
     "name": "stdout",
     "output_type": "stream",
     "text": [
      "[[1 2 3]\n",
      " [4 5 6]\n",
      " [7 8 9]]\n",
      "[[11 12 13]\n",
      " [14 15 16]\n",
      " [17 18 19]]\n",
      "[[ 90  96 102]\n",
      " [216 231 246]\n",
      " [342 366 390]]\n",
      "2079\n"
     ]
    }
   ],
   "source": [
    "a = np.arange(1,10).reshape(3,3)\n",
    "b = np.arange(11,20).reshape(3,3)\n",
    "c = np.dot(a,b)\n",
    "d = np.sum(c)\n",
    "\n",
    "print(a)\n",
    "print(b)\n",
    "print(c)\n",
    "print(d)"
   ]
  },
  {
   "cell_type": "markdown",
   "metadata": {},
   "source": [
    "<h2>Extension</h2>"
   ]
  },
  {
   "cell_type": "markdown",
   "metadata": {},
   "source": [
    "1. Create the following pattern without hardcoding. Use only NumPy functions. array ([1,1,1,2,2,2,3,3,3,1,2,3,1,2,3,1,2,3])"
   ]
  },
  {
   "cell_type": "code",
   "execution_count": 324,
   "metadata": {},
   "outputs": [
    {
     "name": "stdout",
     "output_type": "stream",
     "text": [
      "[1. 1. 1. 2. 2. 2. 3. 3. 3. 1. 2. 3. 1. 2. 3. 1. 2. 3.]\n"
     ]
    }
   ],
   "source": [
    "a = np.ones([6,3])\n",
    "a[1] = a[0]+a[0]\n",
    "a[2] = a[0]+a[1]\n",
    "a[3:6][:,1] = a[1]\n",
    "a[3:6][:,2] = a[2]\n",
    "b = np.concatenate(a)\n",
    "print(b)"
   ]
  },
  {
   "cell_type": "markdown",
   "metadata": {},
   "source": [
    "2. In two arrays a ( 1,2,3,4,5) and b ( 4,5,6,7,8,9) – remove all repeating items present in array b"
   ]
  },
  {
   "cell_type": "code",
   "execution_count": 310,
   "metadata": {},
   "outputs": [
    {
     "name": "stdout",
     "output_type": "stream",
     "text": [
      "[1 2 3]\n"
     ]
    }
   ],
   "source": [
    "a = np.arange(1,6)\n",
    "b = np.arange(4,10)\n",
    "data = np.setdiff1d(a, b)\n",
    "print(data)"
   ]
  },
  {
   "cell_type": "markdown",
   "metadata": {},
   "source": [
    "3. Get all items between 3 and 7 from a and b and sum them together"
   ]
  },
  {
   "cell_type": "code",
   "execution_count": 326,
   "metadata": {},
   "outputs": [
    {
     "name": "stdout",
     "output_type": "stream",
     "text": [
      "[1 2 3 4 5 4 5 6 7 8 9]\n"
     ]
    },
    {
     "data": {
      "text/plain": [
       "24"
      ]
     },
     "execution_count": 326,
     "metadata": {},
     "output_type": "execute_result"
    }
   ],
   "source": [
    "a = np.arange(1,6)\n",
    "b = np.arange(4,10)\n",
    "c = np.concatenate((a, b))\n",
    "print(c)\n",
    "c[np.logical_and(c>3,c<7)].sum()"
   ]
  }
 ],
 "metadata": {
  "interpreter": {
   "hash": "916dbcbb3f70747c44a77c7bcd40155683ae19c65e1c03b4aa3499c5328201f1"
  },
  "kernelspec": {
   "display_name": "Python 3.8.10 64-bit",
   "language": "python",
   "name": "python3"
  },
  "language_info": {
   "codemirror_mode": {
    "name": "ipython",
    "version": 3
   },
   "file_extension": ".py",
   "mimetype": "text/x-python",
   "name": "python",
   "nbconvert_exporter": "python",
   "pygments_lexer": "ipython3",
   "version": "3.8.10"
  },
  "orig_nbformat": 4
 },
 "nbformat": 4,
 "nbformat_minor": 2
}
