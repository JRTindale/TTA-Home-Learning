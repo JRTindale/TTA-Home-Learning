{
 "cells": [
  {
   "cell_type": "markdown",
   "metadata": {},
   "source": [
    "Task 1"
   ]
  },
  {
   "cell_type": "code",
   "execution_count": 1,
   "metadata": {},
   "outputs": [],
   "source": [
    "#import required libraries\n",
    "import random"
   ]
  },
  {
   "cell_type": "code",
   "execution_count": 27,
   "metadata": {},
   "outputs": [
    {
     "name": "stdout",
     "output_type": "stream",
     "text": [
      "Unlucky Jonathan You Lose\n"
     ]
    }
   ],
   "source": [
    "\"\"\"Task 1\n",
    "Write a program that does the following:\n",
    "a) Stores a random number (1-10) in a variable – see hint below.\n",
    "b) Asks a user for their name and stores this in a variable.\n",
    "c) Asks a user to guess the number between 1 and 10.\n",
    "d) Tells the user whether they have guessed correctly.\"\"\"\n",
    "\n",
    "#Request Users Name\n",
    "sUserName = input(\"What is your name\")\n",
    "#Set variable as random number\n",
    "iRandomNumber = random.randrange(1,11)\n",
    "\n",
    "#ensure input is an integer\n",
    "try:\n",
    "    iChosenNumber = int(input(f\"Guess a number between 1 and 10 (inclusive)\"))\n",
    "except:\n",
    "    print(\"Please enter a number\")\n",
    "        \n",
    "#logice to determine whether choices match        \n",
    "if iChosenNumber == iRandomNumber:\n",
    "    print(f\"Congratulations {sUserName} You Win. The correct number was {iRandomNumber}\")\n",
    "else:\n",
    "    print(f\"Unlucky {sUserName} You Lose.\\n You chose {iChosenNumber} and the correct answer was {iRandomNumber}\")"
   ]
  },
  {
   "cell_type": "code",
   "execution_count": 39,
   "metadata": {},
   "outputs": [
    {
     "name": "stdout",
     "output_type": "stream",
     "text": [
      "I used to make shoes but had to quit.\n",
      "    I didn't have the sole for it\n"
     ]
    }
   ],
   "source": [
    "\"\"\"Task 2\n",
    "Write a program that asks a user for their favourite number between 1 and 100 and then tells them a joke based on the number. You should use a minimum of 3 jokes.\n",
    "\"\"\"\n",
    "\n",
    "#Create list of jokes\n",
    "lJokes = [\"I was asked to be in a Reggae band once.\\n\\\n",
    "    They wanted me to play triangle and Ting\",\\\n",
    "    \"I used to sell boats.\\n\\\n",
    "    Sales were through the roof\",\\\n",
    "    \"I used to make shoes but had to quit.\\n\\\n",
    "    I didn't have the sole for it\"]\n",
    "\n",
    "#Ensure value entered is an integer\n",
    "try:\n",
    "    iChosenNumber = int(input(f\"Guess a number between 1 and 100 (inclusive)\"))\n",
    "except:\n",
    "    print(\"Please enter a number\")\n",
    "\n",
    "#if logice to decide which joke is chosen\n",
    "if (iChosenNumber > 0 and iChosenNumber <= 33):\n",
    "    print(lJokes[0])\n",
    "elif (iChosenNumber > 33 and iChosenNumber <= 66):\n",
    "    print(lJokes[1])\n",
    "else:\n",
    "    print(lJokes[2])"
   ]
  },
  {
   "cell_type": "code",
   "execution_count": 41,
   "metadata": {},
   "outputs": [
    {
     "name": "stdout",
     "output_type": "stream",
     "text": [
      "Your favourite meal is Mussels followed by Steak and Sundae for dessert with a glass of Whiskey.\n"
     ]
    }
   ],
   "source": [
    "\"\"\"Task 3\n",
    "Write a program that allows user to enter their favourite starter, main course, dessert and drink.Concatenate these and output a message which says – “Your favourite meal is  ………with a glass of….”\n",
    "\"\"\"\n",
    "\n",
    "#Set variables based off users input\n",
    "sStarter = input(\"What is your favourite starter?\")\n",
    "sMainCourse = input(\"What is your favourite main course?\")\n",
    "sDessert = input(\"What is your favourite dessert?\")\n",
    "sDrink = input(\"What is your favourite drink?\")\n",
    "\n",
    "#utilise in string\n",
    "sPerfectMeal = f\"Your favourite meal is {sStarter}, followed by {sMainCourse} and {sDessert} for dessert with a glass of {sDrink}.\"\n",
    "print(sPerfectMeal)"
   ]
  },
  {
   "cell_type": "code",
   "execution_count": 2,
   "metadata": {},
   "outputs": [
    {
     "name": "stdout",
     "output_type": "stream",
     "text": [
      "The bike is worth: £2000.00\n",
      "The bike is worth: £1800.00\n",
      "The bike is worth: £1620.00\n",
      "The bike is worth: £1458.00\n",
      "The bike is worth: £1312.20\n",
      "The bike is worth: £1180.98\n",
      "The bike is worth: £1062.88\n"
     ]
    }
   ],
   "source": [
    "\"\"\"Task 4\n",
    "A motorbike costs £2000 and loses 10% of its value every year. Using a loop, print the value of the bike every following year until it falls below £1000.\"\"\"\n",
    "\n",
    "#set original motorbike value\n",
    "fMotorBike = 2000.00\n",
    "\n",
    "#start of logic loop\n",
    "while fMotorBike > 1000.00:\n",
    "    print(f\"The bike is worth: £{fMotorBike:.2f}\")\n",
    "    #drop bike value by 10%\n",
    "    fMotorBike = fMotorBike * 0.9"
   ]
  },
  {
   "cell_type": "code",
   "execution_count": 50,
   "metadata": {},
   "outputs": [
    {
     "name": "stdout",
     "output_type": "stream",
     "text": [
      "a: +,\n",
      "b: -,\n",
      "c: /\n",
      "d: *\n",
      "e: **\n",
      "f: %,\n",
      "g: //\n",
      "1.5\n"
     ]
    }
   ],
   "source": [
    "\"\"\"Task 5\n",
    "Write a program which will ask for two numbers from a user. Then offer a menu to the user giving them a choice of operator:e.g. – Enter “a” if you want to add“b” if you want to subtract.\n",
    "Include +, -, /, *, ** square (to the power of). Once the user has selected which operator they wish to use, perform the calculation.\"\"\"\n",
    "\n",
    "#Ensure first seleted number is a number\n",
    "try:\n",
    "    iNumber1 = float(input(\"Pick your first number\"))\n",
    "except:\n",
    "    print(\"Please Enter a number\")\n",
    "\n",
    "#Ensure second seleted number is a number\n",
    "try:\n",
    "    iNumber2 = float(input(\"Pick your second number\"))\n",
    "except:\n",
    "    print(\"Please Enter a number\")\n",
    "\n",
    "#Provide user with an operator menu\n",
    "print(\"a: +,\\nb: -,\\nc: /\\nd: *\\ne: **\\nf: %,\\ng: //\")\n",
    "\n",
    "#request users operator choice\n",
    "sOperator = input(\"Please choose an operator\")\n",
    "\n",
    "#Perform calculation\n",
    "if sOperator == \"a\":\n",
    "    print(iNumber1 + iNumber2)\n",
    "elif sOperator == \"b\":\n",
    "    print(iNumber1 - iNumber2)\n",
    "elif sOperator == \"c\":\n",
    "    print(iNumber1 / iNumber2)\n",
    "elif sOperator == \"d\":\n",
    "    print(iNumber1 * iNumber2)\n",
    "elif sOperator == \"e\":\n",
    "    print(iNumber1 ** iNumber2)\n",
    "elif sOperator == \"f\":\n",
    "    print(iNumber1 % iNumber2)\n",
    "elif sOperator == \"g\":\n",
    "    print(iNumber1 // iNumber2)\n",
    "else:\n",
    "    print(\"invalid operator chosen\")"
   ]
  }
 ],
 "metadata": {
  "interpreter": {
   "hash": "916dbcbb3f70747c44a77c7bcd40155683ae19c65e1c03b4aa3499c5328201f1"
  },
  "kernelspec": {
   "display_name": "Python 3.8.10 64-bit",
   "language": "python",
   "name": "python3"
  },
  "language_info": {
   "codemirror_mode": {
    "name": "ipython",
    "version": 3
   },
   "file_extension": ".py",
   "mimetype": "text/x-python",
   "name": "python",
   "nbconvert_exporter": "python",
   "pygments_lexer": "ipython3",
   "version": "3.8.10"
  },
  "orig_nbformat": 4
 },
 "nbformat": 4,
 "nbformat_minor": 2
}
