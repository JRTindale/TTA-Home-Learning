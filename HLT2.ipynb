{
 "cells": [
  {
   "cell_type": "markdown",
   "metadata": {},
   "source": [
    "<h2>Task 1</h2>\n",
    "<subtiltle>Flowchart provided with HLT2.vsdx</subtitle>"
   ]
  },
  {
   "cell_type": "code",
   "execution_count": null,
   "metadata": {},
   "outputs": [],
   "source": []
  },
  {
   "cell_type": "markdown",
   "metadata": {},
   "source": [
    "<h2>Task 2</h2>\n",
    "As an extension to the motorbike task that costs £2000 and loses 10% of its value every year. Set up a function that performs the calculation by passing in parameters. Then using a loop, print the value of the bike every following year until it falls below £1000.\n",
    "\n",
    "Solution\n",
    "1. Outside of the function, Store the value of the bike against a variable\n",
    "2. Define your function and state which parameters you want to pass in\n",
    "3. Set up a return\n",
    "4. Create a while loop which subtracts 10% of the bikes value untill the value reaches £1000\n",
    "5. Call your function and pass in your parameters"
   ]
  },
  {
   "cell_type": "code",
   "execution_count": 2,
   "metadata": {},
   "outputs": [
    {
     "name": "stdout",
     "output_type": "stream",
     "text": [
      "Year 1: £2000.00\n",
      "Year 2: £1800.00\n",
      "Year 3: £1620.00\n",
      "Year 4: £1458.00\n",
      "Year 5: £1312.20\n",
      "Year 6: £1180.98\n",
      "Year 7: £1062.88\n"
     ]
    }
   ],
   "source": [
    "#Gather parameters and ensure int/floats are entered\n",
    "try:\n",
    "    initial_motorbike_value = float(input(\"Please enter the intial motorbike value £XXXX.xx\"))\n",
    "    depreciation_percentage = float(input(\"Please enter your chosen depreciation % £XX.x\"))\n",
    "except:\n",
    "    print(\"Please enter a float values\")\n",
    "\n",
    "#Depreciation function\n",
    "def motorbike_depreciation(motorbike_value:float, depreciation_percentage:float):\n",
    "    output = motorbike_value * ((100-depreciation_percentage)/100)\n",
    "    return output\n",
    "\n",
    "#Set intial variables\n",
    "motorbike_value = initial_motorbike_value\n",
    "year = 1\n",
    "\n",
    "#Run Depreciation Print Loop\n",
    "while motorbike_value >= 1000:\n",
    "    print(f\"Year {year}: £{motorbike_value:.2f}\")\n",
    "    motorbike_value = motorbike_depreciation(motorbike_value, depreciation_percentage)\n",
    "    year += 1"
   ]
  },
  {
   "cell_type": "markdown",
   "metadata": {},
   "source": [
    "<h2>Task 3</h2>\n",
    "Write a program which will ask for two numbers from a user. Then offer an option menu to the user giving them a choice of maths operators. Once the user has selected which operator they wish to use, perform the calculation by using a procedure and passing parameters. \n",
    "\n",
    "Solution\n",
    "\n",
    "\n",
    "1. Ask the user to pick a number\n",
    "2. Ask the user to pick a second number\n",
    "3. Ask the user to pick an operator\n",
    "4. Define your procedure and state your parameters\n",
    "5. Create an IF statement to carry out the math operation using the users choice of numbers and choice of operator\n",
    "6. Call your procedure and pass in the parameters you want to use"
   ]
  },
  {
   "cell_type": "code",
   "execution_count": null,
   "metadata": {},
   "outputs": [],
   "source": [
    "try:\n",
    "    first_user_number = float(input(\"Please choose your first number\"))\n",
    "    second_user_number = float(input(\"Please choose your second number\"))\n",
    "except:\n",
    "    print(\"please enter numbers for chosen numbers\")\n",
    "\n",
    "#Show operator menu    \n",
    "operator_list = []\n",
    "\n",
    "try:\n",
    "    chosen_operator = int(input(f\"Please select your operator of choice: {operator_list}\"))\n",
    "except:\n",
    "    print(\"Choose an integer from the following list: {operator_list}\")\n",
    "\n",
    "def do_the_math(number1:float, number2:float, operator:int):\n",
    "    if chosen_operator == 1:\n",
    "        print(number1 + number2)\n",
    "    elif chosen_operator == 2:\n",
    "        print(number1 - number2)\n",
    "    elif chosen_operator == 3:\n",
    "        print(number1 * number2)\n",
    "    elif chosen_operator == 4:\n",
    "        print(number1 / number2)\n",
    "    elif chosen_operator == 5:\n",
    "        print(number1 ** number2)\n",
    "    elif chosen_operator == 6:\n",
    "        print(number1 % number2)\n",
    "\n",
    "do_the_math(first_user_number, second_user_number, chosen_operator)"
   ]
  }
 ],
 "metadata": {
  "interpreter": {
   "hash": "14bb6453eefd4720bb6ca24ff2dd56c46212d7ad6ca65d2251abb00e1593cacd"
  },
  "kernelspec": {
   "display_name": "Python 3.10.0 64-bit",
   "language": "python",
   "name": "python3"
  },
  "language_info": {
   "codemirror_mode": {
    "name": "ipython",
    "version": 3
   },
   "file_extension": ".py",
   "mimetype": "text/x-python",
   "name": "python",
   "nbconvert_exporter": "python",
   "pygments_lexer": "ipython3",
   "version": "3.10.0"
  },
  "orig_nbformat": 4
 },
 "nbformat": 4,
 "nbformat_minor": 2
}
