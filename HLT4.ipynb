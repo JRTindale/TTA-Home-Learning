{
 "cells": [
  {
   "cell_type": "markdown",
   "metadata": {},
   "source": [
    "<h1>Lesson Tasks</h1>\n",
    "Create a CSV file of 15 holiday destinations for a website\n",
    "\n",
    "<h2>Practical</h2>\n",
    "See Below"
   ]
  },
  {
   "cell_type": "code",
   "execution_count": 3,
   "metadata": {},
   "outputs": [],
   "source": [
    "#install necessary packages\n",
    "import pandas as pd\n",
    "import matplotlib.pyplot as plt"
   ]
  },
  {
   "cell_type": "code",
   "execution_count": 4,
   "metadata": {},
   "outputs": [],
   "source": [
    "destination_data = pd.read_csv(\"Destinations.csv\")"
   ]
  },
  {
   "cell_type": "markdown",
   "metadata": {},
   "source": [
    "1. How many rows and columns are there in your file?"
   ]
  },
  {
   "cell_type": "code",
   "execution_count": 5,
   "metadata": {},
   "outputs": [
    {
     "ename": "SyntaxError",
     "evalue": "invalid syntax (3601047553.py, line 1)",
     "output_type": "error",
     "traceback": [
      "\u001b[0;36m  File \u001b[0;32m\"/tmp/ipykernel_32808/3601047553.py\"\u001b[0;36m, line \u001b[0;32m1\u001b[0m\n\u001b[0;31m    print(destination_data.shape)y;\u001b[0m\n\u001b[0m                                 ^\u001b[0m\n\u001b[0;31mSyntaxError\u001b[0m\u001b[0;31m:\u001b[0m invalid syntax\n"
     ]
    }
   ],
   "source": [
    "print(destination_data.shape)y;"
   ]
  },
  {
   "cell_type": "markdown",
   "metadata": {},
   "source": [
    "2. Print row 3-8 (using iloc/loc)."
   ]
  },
  {
   "cell_type": "code",
   "execution_count": null,
   "metadata": {},
   "outputs": [
    {
     "name": "stdout",
     "output_type": "stream",
     "text": [
      "  Destinations  Feedback score  Average hotel star rating  \\\n",
      "2        Spain               8                        3.1   \n",
      "3      Germany               7                        3.1   \n",
      "4  Netherlands               8                        2.7   \n",
      "5      Hungary               6                        2.6   \n",
      "6        Italy               7                        4.0   \n",
      "7        Japan              10                        4.3   \n",
      "\n",
      "   All-inclusive hotel count most visited city  \n",
      "2                         23         Barcelona  \n",
      "3                          7            Berlin  \n",
      "4                          7         Amsterdam  \n",
      "5                          9          Budapest  \n",
      "6                          8             Milan  \n",
      "7                          5             Tokyo  \n"
     ]
    }
   ],
   "source": [
    "print(destination_data.iloc[2:8]);"
   ]
  },
  {
   "cell_type": "markdown",
   "metadata": {},
   "source": [
    "3. Find the mean number of all-inclusive hotels across all destinations."
   ]
  },
  {
   "cell_type": "code",
   "execution_count": null,
   "metadata": {},
   "outputs": [
    {
     "name": "stdout",
     "output_type": "stream",
     "text": [
      "12.93\n"
     ]
    }
   ],
   "source": [
    "print(round(destination_data[\"All-inclusive hotel count\"].mean(),2));"
   ]
  },
  {
   "cell_type": "markdown",
   "metadata": {},
   "source": [
    "4. Find the lowest scoring destination."
   ]
  },
  {
   "cell_type": "code",
   "execution_count": null,
   "metadata": {},
   "outputs": [
    {
     "name": "stdout",
     "output_type": "stream",
     "text": [
      "8    China\n",
      "Name: Destinations, dtype: object\n"
     ]
    }
   ],
   "source": [
    "minFilter = destination_data[\"Feedback score\"] == destination_data[\"Feedback score\"].min();\n",
    "print(destination_data[minFilter].Destinations);"
   ]
  },
  {
   "cell_type": "markdown",
   "metadata": {},
   "source": [
    "5. Find the highest scoring destination."
   ]
  },
  {
   "cell_type": "code",
   "execution_count": null,
   "metadata": {},
   "outputs": [
    {
     "name": "stdout",
     "output_type": "stream",
     "text": [
      "7    Japan\n",
      "Name: Destinations, dtype: object\n"
     ]
    }
   ],
   "source": [
    "maxFilter = destination_data[\"Feedback score\"] == destination_data[\"Feedback score\"].max();\n",
    "print(destination_data[maxFilter].Destinations);"
   ]
  },
  {
   "cell_type": "markdown",
   "metadata": {},
   "source": [
    "6. Find all the destinations where there are more than 9 all-inclusive hotels."
   ]
  },
  {
   "cell_type": "code",
   "execution_count": null,
   "metadata": {},
   "outputs": [
    {
     "name": "stdout",
     "output_type": "stream",
     "text": [
      "0      England\n",
      "2        Spain\n",
      "8        China\n",
      "9        India\n",
      "12    Thailand\n",
      "13      Turkey\n",
      "Name: Destinations, dtype: object\n"
     ]
    }
   ],
   "source": [
    "minInclusive = destination_data[\"All-inclusive hotel count\"] > 9;\n",
    "print(destination_data[minInclusive].Destinations);"
   ]
  },
  {
   "cell_type": "markdown",
   "metadata": {},
   "source": [
    "7. Filter the data by score above 8."
   ]
  },
  {
   "cell_type": "code",
   "execution_count": null,
   "metadata": {},
   "outputs": [
    {
     "name": "stdout",
     "output_type": "stream",
     "text": [
      "7    Japan\n",
      "9    India\n",
      "Name: Destinations, dtype: object\n"
     ]
    }
   ],
   "source": [
    "minInclusive = destination_data[\"Feedback score\"] > 8;\n",
    "print(destination_data[minInclusive].Destinations);"
   ]
  },
  {
   "cell_type": "markdown",
   "metadata": {},
   "source": [
    "8. Filter the data score below 2 (I need to know if these destinations should be removed or there is a problem)"
   ]
  },
  {
   "cell_type": "code",
   "execution_count": null,
   "metadata": {},
   "outputs": [
    {
     "name": "stdout",
     "output_type": "stream",
     "text": [
      "12    Thailand\n",
      "Name: Destinations, dtype: object\n"
     ]
    }
   ],
   "source": [
    "maxHotelStar = destination_data[\"Average hotel star rating\"] <= 2;\n",
    "print(destination_data[maxHotelStar].Destinations);"
   ]
  },
  {
   "cell_type": "markdown",
   "metadata": {},
   "source": [
    "<h2>Extension</h2>"
   ]
  },
  {
   "cell_type": "markdown",
   "metadata": {},
   "source": [
    "1. Is there a correlation between number of all-inclusive hotels and score?"
   ]
  },
  {
   "cell_type": "code",
   "execution_count": null,
   "metadata": {},
   "outputs": [
    {
     "name": "stdout",
     "output_type": "stream",
     "text": [
      "AxesSubplot(0.125,0.125;0.775x0.755)\n"
     ]
    },
    {
     "data": {
      "image/png": "[encoded data removed]",
      "text/plain": [
       "<Figure size 432x288 with 1 Axes>"
      ]
     },
     "metadata": {
      "needs_background": "light"
     },
     "output_type": "display_data"
    }
   ],
   "source": [
    "print(destination_data.plot.scatter(x=\"Average hotel star rating\", y=\"All-inclusive hotel count\"))\n",
    "###No real correlation with this chart numbers are very random and scattered."
   ]
  },
  {
   "cell_type": "markdown",
   "metadata": {},
   "source": [
    "2. Create a data visualisation diagram to show destination and highest score"
   ]
  },
  {
   "cell_type": "code",
   "execution_count": 6,
   "metadata": {},
   "outputs": [
    {
     "name": "stdout",
     "output_type": "stream",
     "text": [
      "AxesSubplot(0.125,0.125;0.775x0.755)\n"
     ]
    },
    {
     "data": {
      "image/png": "[encoded data removed]",
      "text/plain": [
       "<Figure size 432x288 with 1 Axes>"
      ]
     },
     "metadata": {
      "needs_background": "light"
     },
     "output_type": "display_data"
    }
   ],
   "source": [
    "print(destination_data.plot.bar(x = \"Destinations\", y = \"Feedback score\"))"
   ]
  }
 ],
 "metadata": {
  "interpreter": {
   "hash": "916dbcbb3f70747c44a77c7bcd40155683ae19c65e1c03b4aa3499c5328201f1"
  },
  "kernelspec": {
   "display_name": "Python 3.8.10 64-bit",
   "language": "python",
   "name": "python3"
  },
  "language_info": {
   "codemirror_mode": {
    "name": "ipython",
    "version": 3
   },
   "file_extension": ".py",
   "mimetype": "text/x-python",
   "name": "python",
   "nbconvert_exporter": "python",
   "pygments_lexer": "ipython3",
   "version": "3.8.10"
  },
  "orig_nbformat": 4
 },
 "nbformat": 4,
 "nbformat_minor": 2
}
